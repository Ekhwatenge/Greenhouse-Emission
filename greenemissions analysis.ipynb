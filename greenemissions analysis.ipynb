{
 "cells": [
  {
   "cell_type": "code",
   "execution_count": 5,
   "id": "528ea473-1a1f-48f0-b606-a4024920df29",
   "metadata": {},
   "outputs": [
    {
     "name": "stdout",
     "output_type": "stream",
     "text": [
      "<class 'pandas.core.frame.DataFrame'>\n",
      "RangeIndex: 8406 entries, 0 to 8405\n",
      "Data columns (total 4 columns):\n",
      " #   Column     Non-Null Count  Dtype  \n",
      "---  ------     --------------  -----  \n",
      " 0   Country    8406 non-null   object \n",
      " 1   Year       8406 non-null   int64  \n",
      " 2   Emissions  8406 non-null   float64\n",
      " 3   Category   8406 non-null   object \n",
      "dtypes: float64(1), int64(1), object(2)\n",
      "memory usage: 262.8+ KB\n",
      "None\n",
      "              Year     Emissions\n",
      "count  8406.000000  8.406000e+03\n",
      "mean   2002.188437  2.055472e+05\n",
      "std       7.151605  8.041504e+05\n",
      "min    1990.000000  1.103750e-06\n",
      "25%    1996.000000  2.976980e+02\n",
      "50%    2002.000000  7.840318e+03\n",
      "75%    2008.000000  6.589885e+04\n",
      "max    2014.000000  7.422208e+06\n"
     ]
    }
   ],
   "source": [
    "import pandas as pd\n",
    "import matplotlib.pyplot as plt\n",
    "import seaborn as sns\n",
    "import numpy as np\n",
    "\n",
    "# Replace inf and -inf with NaN in the dataset\n",
    "data.replace([np.inf, -np.inf], np.nan, inplace=True)\n",
    "\n",
    "\n",
    "# Load the dataset\n",
    "file_path = 'greenhouse_gas_inventory_data_data.csv'\n",
    "data = pd.read_csv(file_path)\n",
    "\n",
    "# Data Cleaning\n",
    "data.columns = ['Country', 'Year', 'Emissions', 'Category']\n",
    "data['Year'] = pd.to_numeric(data['Year'])\n",
    "data['Emissions'] = pd.to_numeric(data['Emissions'])\n",
    "import warnings\n",
    "warnings.filterwarnings(\"ignore\", category=FutureWarning)\n",
    "\n",
    "# Exploratory Data Analysis\n",
    "print(data.info())\n",
    "print(data.describe())\n",
    "\n",
    "# Group by Country for analysis\n",
    "countries = data['Country'].unique()\n",
    "\n",
    "\n"
   ]
  },
  {
   "cell_type": "code",
   "execution_count": 1,
   "id": "dfd82c18-2cd5-4674-a879-e11f08439238",
   "metadata": {},
   "outputs": [
    {
     "ename": "NameError",
     "evalue": "name 'data' is not defined",
     "output_type": "error",
     "traceback": [
      "\u001b[1;31m---------------------------------------------------------------------------\u001b[0m",
      "\u001b[1;31mNameError\u001b[0m                                 Traceback (most recent call last)",
      "Cell \u001b[1;32mIn[1], line 2\u001b[0m\n\u001b[0;32m      1\u001b[0m \u001b[38;5;66;03m# Group by Country for analysis\u001b[39;00m\n\u001b[1;32m----> 2\u001b[0m countries \u001b[38;5;241m=\u001b[39m data[\u001b[38;5;124m'\u001b[39m\u001b[38;5;124mCountry\u001b[39m\u001b[38;5;124m'\u001b[39m]\u001b[38;5;241m.\u001b[39munique()  \u001b[38;5;66;03m# Correct variable name here\u001b[39;00m\n\u001b[0;32m      4\u001b[0m \u001b[38;5;66;03m# Visualization: Trends by Country\u001b[39;00m\n\u001b[0;32m      5\u001b[0m \u001b[38;5;28;01mfor\u001b[39;00m country \u001b[38;5;129;01min\u001b[39;00m countries:  \u001b[38;5;66;03m# Use the correct 'countries' variable\u001b[39;00m\n",
      "\u001b[1;31mNameError\u001b[0m: name 'data' is not defined"
     ]
    }
   ],
   "source": [
    "# Group by Country for analysis\n",
    "countries = data['Country'].unique()  # Correct variable name here\n",
    "\n",
    "# Visualization: Trends by Country\n",
    "for country in countries:  # Use the correct 'countries' variable\n",
    "    country_data = data[data['Country'] == country]\n",
    "    plt.figure(figsize=(10, 6))\n",
    "    sns.lineplot(x='Year', y='Emissions', data=country_data, marker='o')\n",
    "    plt.title(f'CO2 Emissions Trend: {country}')\n",
    "    plt.xlabel('Year')\n",
    "    plt.ylabel('Emissions (kilotonnes CO2 equivalent)')\n",
    "    plt.grid(True)\n",
    "    plt.savefig(f'{country.lower()}_emissions_trend.png')  # Save plot with descriptive name\n",
    "    plt.close()\n",
    "\n",
    "# Descriptive Statistics\n",
    "summary_stats = data.groupby('Country')['Emissions'].describe()\n",
    "summary_stats.to_csv('emissions_summary_statistics.csv')\n",
    "\n",
    "# Annual Growth Rate Calculation\n",
    "data['Growth_Rate'] = data.groupby('Country')['Emissions'].pct_change() * 100\n",
    "\n",
    "# Save Cleaned Data with Growth Rates\n",
    "data.to_csv('cleaned_emissions_data_with_growth_rates.csv', index=False)\n",
    "\n",
    "# Top Emitters Visualization (2014)\n",
    "latest_year_data = data[data['Year'] == 2014]\n",
    "plt.figure(figsize=(12, 8))\n",
    "sns.barplot(x='Emissions', y='Country', data=latest_year_data.sort_values('Emissions', ascending=False))\n",
    "plt.title('Top Emitters in 2014')\n",
    "plt.xlabel('Emissions (kilotonnes CO2 equivalent)')\n",
    "plt.ylabel('Country')\n",
    "plt.grid(axis='x')\n",
    "plt.savefig('top_emitters_2014.png')\n",
    "plt.close()\n",
    "\n",
    "print(\"Analysis complete. Visualizations and CSV files saved.\")"
   ]
  },
  {
   "cell_type": "code",
   "execution_count": null,
   "id": "03176a6a-7405-489b-90a4-44191c5e90c1",
   "metadata": {},
   "outputs": [],
   "source": []
  }
 ],
 "metadata": {
  "kernelspec": {
   "display_name": "Python 3 (ipykernel)",
   "language": "python",
   "name": "python3"
  },
  "language_info": {
   "codemirror_mode": {
    "name": "ipython",
    "version": 3
   },
   "file_extension": ".py",
   "mimetype": "text/x-python",
   "name": "python",
   "nbconvert_exporter": "python",
   "pygments_lexer": "ipython3",
   "version": "3.11.7"
  }
 },
 "nbformat": 4,
 "nbformat_minor": 5
}
